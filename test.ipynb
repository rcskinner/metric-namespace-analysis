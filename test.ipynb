{
 "cells": [
  {
   "cell_type": "code",
   "execution_count": 21,
   "metadata": {},
   "outputs": [],
   "source": [
    "from custom_metrics_tree import (read_custom_metrics_csv,\n",
    "                                 generate_cm_namespace_tree,\n",
    "                                 add_metric_namespace_to_tree)"
   ]
  },
  {
   "cell_type": "code",
   "execution_count": 23,
   "metadata": {},
   "outputs": [
    {
     "name": "stdout",
     "output_type": "stream",
     "text": [
      "root\n",
      "├── mongo\n",
      "│   └── cache\n",
      "│       ├── hits\n",
      "│       ├── misses\n",
      "│       └── performance\n",
      "│           ├── cpu\n",
      "│           └── ram\n",
      "└── requests\n",
      "    ├── route1\n",
      "    │   ├── errors\n",
      "    │   │   └── p98\n",
      "    │   └── latency\n",
      "    │       ├── max\n",
      "    │       └── p98\n",
      "    └── route2\n",
      "        ├── errors\n",
      "        │   └── p98\n",
      "        └── latency\n",
      "            ├── max\n",
      "            └── p98\n",
      "\n"
     ]
    }
   ],
   "source": [
    "cm_df = read_custom_metrics_csv(\"./test-data/example-custom-metrics.csv\")\n",
    "cm_tree = generate_cm_namespace_tree(cm_df)\n",
    "cm_tree.show()"
   ]
  },
  {
   "cell_type": "code",
   "execution_count": null,
   "metadata": {},
   "outputs": [],
   "source": []
  }
 ],
 "metadata": {
  "kernelspec": {
   "display_name": ".venv",
   "language": "python",
   "name": "python3"
  },
  "language_info": {
   "codemirror_mode": {
    "name": "ipython",
    "version": 3
   },
   "file_extension": ".py",
   "mimetype": "text/x-python",
   "name": "python",
   "nbconvert_exporter": "python",
   "pygments_lexer": "ipython3",
   "version": "3.10.5"
  },
  "orig_nbformat": 4
 },
 "nbformat": 4,
 "nbformat_minor": 2
}
