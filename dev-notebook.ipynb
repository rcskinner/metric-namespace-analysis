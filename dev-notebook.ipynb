{
 "cells": [
  {
   "cell_type": "code",
   "execution_count": null,
   "metadata": {
    "tags": []
   },
   "outputs": [],
   "source": [
    "from treelib import Node, Tree\n",
    "import pandas as pd"
   ]
  },
  {
   "attachments": {},
   "cell_type": "markdown",
   "metadata": {},
   "source": [
    "## Examples with the treelib library\n",
    "---"
   ]
  },
  {
   "cell_type": "code",
   "execution_count": null,
   "metadata": {},
   "outputs": [],
   "source": [
    "# Example Tree\n",
    "tree = Tree()\n",
    "tree.create_node(\"Ryan\",\"ryan\")\n",
    "tree.create_node(\"n1\",\"n1\", parent=\"ryan\")\n",
    "tree.create_node(\"n2\",\"n2\", parent=\"ryan\")\n",
    "tree.show()"
   ]
  },
  {
   "cell_type": "code",
   "execution_count": null,
   "metadata": {},
   "outputs": [],
   "source": [
    "# Check if a node exists using .get_node() method\n",
    "tree.get_node(\"ryan\")"
   ]
  },
  {
   "cell_type": "code",
   "execution_count": null,
   "metadata": {},
   "outputs": [],
   "source": [
    "# Check if no node exists with the \n",
    "tree.get_node(\"macy\")"
   ]
  },
  {
   "attachments": {},
   "cell_type": "markdown",
   "metadata": {},
   "source": [
    "### Data ingestion / conversion\n",
    "Read in the custom metrics .csv file and create a dataframe to run into analysis"
   ]
  },
  {
   "cell_type": "code",
   "execution_count": null,
   "metadata": {},
   "outputs": [],
   "source": [
    "def read_custom_metrics_csv(fn:str) -> pd.DataFrame():\n",
    "    \"\"\"\n",
    "    Purpose: Read in the custom metrics .csv file and make \n",
    "    small transformations to it. \n",
    "    \n",
    "    Input Args: \n",
    "        - fn(str): The filepath to the .csv\n",
    "    Output: \n",
    "        - pd.DataFrame: Transformed custom metrics data\n",
    "    \"\"\"\n",
    "    df = pd.read_csv(fn)\n",
    "    df = df.rename(columns={\n",
    "        \"Metric Name\":\"metric_name\",\n",
    "        \"Average Custom Metrics / Hour\": \"average_hourly_custom_metrics\",\n",
    "        \"Max Custom Metrics / Hour\": \"max_hourly_custom_metrics\"\n",
    "        })\n",
    "    return df"
   ]
  },
  {
   "cell_type": "code",
   "execution_count": null,
   "metadata": {},
   "outputs": [],
   "source": [
    "cm_df = read_custom_metrics_csv(fn=\"./test-data/example-custom-metrics.csv\")\n",
    "cm_df.head()"
   ]
  },
  {
   "attachments": {},
   "cell_type": "markdown",
   "metadata": {},
   "source": [
    "## Converting Custom Metrics List into Tree\n",
    "----"
   ]
  },
  {
   "attachments": {},
   "cell_type": "markdown",
   "metadata": {},
   "source": [
    "### Creating the Tree Constructor\n",
    "\n",
    "Testing with 3 different lists to see if the tree gets built out appropriately"
   ]
  },
  {
   "cell_type": "code",
   "execution_count": null,
   "metadata": {},
   "outputs": [],
   "source": [
    "metric_list1 = [\"mongo\",\"cache\",\"performance\",\"cpu\"]\n",
    "metric_list2 = [\"mongo\",\"cache\",\"performance\",\"ram\"]\n",
    "metrics_list3 = [\"redis\",\"cache\",\"performance\",\"cpu\"]"
   ]
  },
  {
   "cell_type": "code",
   "execution_count": null,
   "metadata": {},
   "outputs": [],
   "source": [
    "def add_metric_namespace_to_tree(metric_list:list, tree:Tree) -> Tree:\n",
    "    parent=\"root\"\n",
    "    for element in metric_list:\n",
    "        node_id = parent + \".\" + element\n",
    "        # Check if the element exists in the parent's subtree\n",
    "        # If it does skip, o.w. add to the tree\n",
    "        if not tree.subtree(parent).get_node(node_id):\n",
    "            tree.create_node(element, node_id, parent=parent)\n",
    "        parent = node_id\n",
    "    return tree\n",
    "    "
   ]
  },
  {
   "cell_type": "code",
   "execution_count": null,
   "metadata": {},
   "outputs": [],
   "source": [
    "# Initiate the tree\n",
    "cm_tree = Tree()\n",
    "cm_tree.create_node(\"root\",\"root\")\n",
    "\n",
    "# Test with two metrics lists\n",
    "cm_tree = add_metric_namespace_to_tree(metric_list=metric_list1, tree=cm_tree)\n",
    "cm_tree = add_metric_namespace_to_tree(metric_list=metric_list2, tree=cm_tree)\n",
    "cm_tree = add_metric_namespace_to_tree(metric_list=metrics_list3, tree=cm_tree)\n",
    "cm_tree.show()"
   ]
  },
  {
   "attachments": {},
   "cell_type": "markdown",
   "metadata": {},
   "source": [
    "### Putting it all together"
   ]
  },
  {
   "cell_type": "code",
   "execution_count": null,
   "metadata": {},
   "outputs": [],
   "source": [
    "def generate_cm_namespace_tree(cm_df:pd.DataFrame) -> Tree: \n",
    "    cm_tree = Tree()\n",
    "    cm_tree.create_node(\"root\",\"root\")\n",
    "    for iter, row in cm_df.iterrows():\n",
    "        custom_metric = row.metric_name\n",
    "        metric_namespace = custom_metric.split(\".\")\n",
    "        cm_tree = add_metric_namespace_to_tree(metric_namespace,cm_tree)\n",
    "    return cm_tree"
   ]
  },
  {
   "cell_type": "code",
   "execution_count": null,
   "metadata": {},
   "outputs": [],
   "source": [
    "cm_df = read_custom_metrics_csv(\"./test-data/example-custom-metrics.csv\")\n",
    "cm_tree = generate_cm_namespace_tree(cm_df)\n",
    "cm_tree.show()"
   ]
  }
 ],
 "metadata": {
  "kernelspec": {
   "display_name": ".venv",
   "language": "python",
   "name": "python3"
  },
  "language_info": {
   "codemirror_mode": {
    "name": "ipython",
    "version": 3
   },
   "file_extension": ".py",
   "mimetype": "text/x-python",
   "name": "python",
   "nbconvert_exporter": "python",
   "pygments_lexer": "ipython3",
   "version": "3.10.5"
  },
  "orig_nbformat": 4
 },
 "nbformat": 4,
 "nbformat_minor": 2
}
