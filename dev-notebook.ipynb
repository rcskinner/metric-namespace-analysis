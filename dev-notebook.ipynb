{
 "cells": [
  {
   "cell_type": "code",
   "execution_count": null,
   "metadata": {},
   "outputs": [],
   "source": [
    "# Import pylibraries \n",
    "from treelib import Tree\n",
    "import pandas as pd"
   ]
  },
  {
   "cell_type": "code",
   "execution_count": null,
   "metadata": {},
   "outputs": [],
   "source": [
    "from src.custom_metrics_tree import (\n",
    "  read_custom_metrics_csv,\n",
    " )"
   ]
  },
  {
   "attachments": {},
   "cell_type": "markdown",
   "metadata": {},
   "source": [
    "## Adding usage / weights to the tree\n",
    "\n",
    "Will require changes to two functions: \n",
    "* Change the add_metric_namespace_to_tree to accept an optional \"usage\" argument\n",
    "* Change the add_metric_namespace_to_tree function to assign data to the node \n",
    "    - Propogate up the ancestors to sum up the tree\n",
    "3. Change the generate_cm_namespace_tree to pass the data alog\n",
    "\n",
    "\n",
    "\n"
   ]
  },
  {
   "cell_type": "code",
   "execution_count": null,
   "metadata": {},
   "outputs": [],
   "source": [
    "def add_metric_namespace_to_tree(metric_list:list, tree:Tree, usage_data:int) -> Tree:\n",
    "    \"\"\"Given a split list of a metrics namespace, add the \"\"\"\n",
    "    parent=\"root\"\n",
    "    for element in metric_list:\n",
    "        node_id = parent + \".\" + element\n",
    "        # Check if the element exists in the parent's subtree\n",
    "        # If it does skip, o.w. add to the tree\n",
    "        if not tree.subtree(parent).get_node(node_id):\n",
    "            tree.create_node(element, node_id, parent=parent,data=usage_data)\n",
    "        parent = node_id\n",
    "    return tree"
   ]
  },
  {
   "cell_type": "code",
   "execution_count": null,
   "metadata": {},
   "outputs": [],
   "source": [
    "def generate_cm_namespace_tree(cm_df:pd.DataFrame) -> Tree: \n",
    "    cm_tree = Tree()\n",
    "    cm_tree.create_node(\"root\",\"root\")\n",
    "    for iter, row in cm_df.iterrows():\n",
    "        custom_metric = row.metric_name\n",
    "        metric_namespace = custom_metric.split(\".\")\n",
    "        cm_tree = add_metric_namespace_to_tree(metric_namespace,cm_tree)\n",
    "    return cm_tree"
   ]
  },
  {
   "cell_type": "code",
   "execution_count": null,
   "metadata": {},
   "outputs": [],
   "source": [
    "cm_df = read_custom_metrics_csv(\"./test-data/example-custom-metrics.csv\")\n",
    "cm_df.head()"
   ]
  },
  {
   "cell_type": "code",
   "execution_count": null,
   "metadata": {},
   "outputs": [],
   "source": [
    "cm_tree = generate_cm_namespace_tree(cm_df)\n",
    "cm_tree.show()"
   ]
  },
  {
   "cell_type": "code",
   "execution_count": null,
   "metadata": {},
   "outputs": [],
   "source": [
    "new_tree = Tree()\n",
    "new_tree.create_node(\"root\",\"root\")"
   ]
  },
  {
   "cell_type": "code",
   "execution_count": null,
   "metadata": {},
   "outputs": [],
   "source": [
    "new_tree = add_metric_namespace_to_tree([\"mongo\",\"cache\",\"performance\",\"avg\"], new_tree, 20)\n",
    "new_tree = add_metric_namespace_to_tree([\"mongo\",\"cache\",\"performance\",\"max\"], new_tree, 10)"
   ]
  },
  {
   "cell_type": "code",
   "execution_count": null,
   "metadata": {},
   "outputs": [],
   "source": []
  }
 ],
 "metadata": {
  "language_info": {
   "name": "python"
  },
  "orig_nbformat": 4
 },
 "nbformat": 4,
 "nbformat_minor": 2
}
