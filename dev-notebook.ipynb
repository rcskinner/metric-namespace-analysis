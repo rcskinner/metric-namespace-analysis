{
 "cells": [
  {
   "cell_type": "code",
   "execution_count": 56,
   "metadata": {},
   "outputs": [],
   "source": [
    "# Import pylibraries \n",
    "from treelib import Tree\n",
    "import pandas as pd"
   ]
  },
  {
   "cell_type": "code",
   "execution_count": 57,
   "metadata": {},
   "outputs": [],
   "source": [
    "from src.custom_metrics_tree import (\n",
    "  read_custom_metrics_csv,\n",
    "  add_metric_namespace_to_tree,\n",
    "  update_usage_data,\n",
    "  generate_cm_namespace_tree,\n",
    " )"
   ]
  },
  {
   "attachments": {},
   "cell_type": "markdown",
   "metadata": {},
   "source": [
    "## Adding usage / weights to the tree\n",
    "\n",
    "Will require changes to two functions: \n",
    "* Change the add_metric_namespace_to_tree to accept an optional \"usage\" argument\n",
    "* Change the add_metric_namespace_to_tree function to assign data to the node \n",
    "    - Propogate up the ancestors to sum up the tree\n",
    "3. Change the generate_cm_namespace_tree to pass the data alog\n",
    "\n",
    "\n",
    "\n"
   ]
  },
  {
   "cell_type": "code",
   "execution_count": 58,
   "metadata": {},
   "outputs": [
    {
     "name": "stdout",
     "output_type": "stream",
     "text": [
      "root\n",
      "├── mongo\n",
      "│   └── cache\n",
      "│       ├── hits\n",
      "│       ├── misses\n",
      "│       └── performance\n",
      "│           ├── cpu\n",
      "│           └── ram\n",
      "└── requests\n",
      "    ├── route1\n",
      "    │   ├── errors\n",
      "    │   └── latency\n",
      "    └── route2\n",
      "        ├── errors\n",
      "        └── latency\n",
      "\n"
     ]
    }
   ],
   "source": [
    "test_df = read_custom_metrics_csv(\"tests/test_data.csv\")\n",
    "t = generate_cm_namespace_tree(test_df, \"average_hourly_custom_metrics\")\n",
    "t.show()"
   ]
  },
  {
   "cell_type": "code",
   "execution_count": 59,
   "metadata": {},
   "outputs": [
    {
     "data": {
      "text/plain": [
       "Node(tag=root, identifier=root, data=40)"
      ]
     },
     "execution_count": 59,
     "metadata": {},
     "output_type": "execute_result"
    }
   ],
   "source": [
    "t.get_node(\"root\")"
   ]
  },
  {
   "cell_type": "code",
   "execution_count": 60,
   "metadata": {},
   "outputs": [
    {
     "name": "stdout",
     "output_type": "stream",
     "text": [
      "root\n",
      "├── mongo\n",
      "│   └── cache\n",
      "│       ├── hits\n",
      "│       ├── misses\n",
      "│       └── performance\n",
      "│           ├── cpu\n",
      "│           └── ram\n",
      "└── requests\n",
      "    ├── route1\n",
      "    │   ├── errors\n",
      "    │   └── latency\n",
      "    └── route2\n",
      "        ├── errors\n",
      "        └── latency\n",
      "\n"
     ]
    }
   ],
   "source": [
    "test_df = read_custom_metrics_csv(\"tests/test_data.csv\")\n",
    "t = generate_cm_namespace_tree(test_df, \"max_hourly_custom_metrics\")\n",
    "t.show()"
   ]
  },
  {
   "cell_type": "code",
   "execution_count": 61,
   "metadata": {},
   "outputs": [
    {
     "data": {
      "text/plain": [
       "Node(tag=root, identifier=root, data=80)"
      ]
     },
     "execution_count": 61,
     "metadata": {},
     "output_type": "execute_result"
    }
   ],
   "source": [
    "t.get_node(\"root\")"
   ]
  },
  {
   "cell_type": "code",
   "execution_count": 62,
   "metadata": {},
   "outputs": [
    {
     "name": "stdout",
     "output_type": "stream",
     "text": [
      "root  (80)\n",
      "├── mongo  (40)\n",
      "│   └── cache  (40)\n",
      "│       ├── hits  (10)\n",
      "│       ├── misses  (10)\n",
      "│       └── performance  (20)\n",
      "│           ├── cpu  (10)\n",
      "│           └── ram  (10)\n",
      "└── requests  (40)\n",
      "    ├── route1  (20)\n",
      "    │   ├── errors  (10)\n",
      "    │   └── latency  (10)\n",
      "    └── route2  (20)\n",
      "        ├── errors  (10)\n",
      "        └── latency  (10)\n",
      "\n"
     ]
    }
   ],
   "source": [
    "t.show_data()"
   ]
  },
  {
   "cell_type": "code",
   "execution_count": null,
   "metadata": {},
   "outputs": [],
   "source": [
    "t.show()"
   ]
  },
  {
   "cell_type": "code",
   "execution_count": null,
   "metadata": {},
   "outputs": [],
   "source": []
  }
 ],
 "metadata": {
  "kernelspec": {
   "display_name": ".venv",
   "language": "python",
   "name": "python3"
  },
  "language_info": {
   "codemirror_mode": {
    "name": "ipython",
    "version": 3
   },
   "file_extension": ".py",
   "mimetype": "text/x-python",
   "name": "python",
   "nbconvert_exporter": "python",
   "pygments_lexer": "ipython3",
   "version": "3.10.5"
  },
  "orig_nbformat": 4
 },
 "nbformat": 4,
 "nbformat_minor": 2
}
