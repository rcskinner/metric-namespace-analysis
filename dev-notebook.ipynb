{
 "cells": [
  {
   "cell_type": "code",
   "execution_count": 9,
   "metadata": {},
   "outputs": [],
   "source": [
    "# Import pylibraries \n",
    "from treelib import Tree\n",
    "import pandas as pd"
   ]
  },
  {
   "cell_type": "code",
   "execution_count": 10,
   "metadata": {},
   "outputs": [],
   "source": [
    "from src.custom_metrics_tree import (\n",
    "  read_custom_metrics_csv,\n",
    "  add_metric_namespace_to_tree,\n",
    "  update_usage_data,\n",
    "  generate_cm_namespace_tree,\n",
    " )"
   ]
  },
  {
   "attachments": {},
   "cell_type": "markdown",
   "metadata": {},
   "source": [
    "## Adding usage / weights to the tree\n",
    "\n",
    "Will require changes to two functions: \n",
    "* Change the add_metric_namespace_to_tree to accept an optional \"usage\" argument\n",
    "* Change the add_metric_namespace_to_tree function to assign data to the node \n",
    "    - Propogate up the ancestors to sum up the tree\n",
    "3. Change the generate_cm_namespace_tree to pass the data alog\n",
    "\n",
    "\n",
    "\n"
   ]
  },
  {
   "cell_type": "code",
   "execution_count": 22,
   "metadata": {},
   "outputs": [
    {
     "data": {
      "text/html": [
       "<div>\n",
       "<style scoped>\n",
       "    .dataframe tbody tr th:only-of-type {\n",
       "        vertical-align: middle;\n",
       "    }\n",
       "\n",
       "    .dataframe tbody tr th {\n",
       "        vertical-align: top;\n",
       "    }\n",
       "\n",
       "    .dataframe thead th {\n",
       "        text-align: right;\n",
       "    }\n",
       "</style>\n",
       "<table border=\"1\" class=\"dataframe\">\n",
       "  <thead>\n",
       "    <tr style=\"text-align: right;\">\n",
       "      <th></th>\n",
       "      <th>metric_name</th>\n",
       "      <th>average_hourly_custom_metrics</th>\n",
       "      <th>max_hourly_custom_metrics</th>\n",
       "    </tr>\n",
       "  </thead>\n",
       "  <tbody>\n",
       "    <tr>\n",
       "      <th>0</th>\n",
       "      <td>requests.route1.latency</td>\n",
       "      <td>5</td>\n",
       "      <td>10</td>\n",
       "    </tr>\n",
       "    <tr>\n",
       "      <th>1</th>\n",
       "      <td>requests.route1.errors</td>\n",
       "      <td>5</td>\n",
       "      <td>10</td>\n",
       "    </tr>\n",
       "    <tr>\n",
       "      <th>2</th>\n",
       "      <td>requests.route2.latency</td>\n",
       "      <td>5</td>\n",
       "      <td>10</td>\n",
       "    </tr>\n",
       "    <tr>\n",
       "      <th>3</th>\n",
       "      <td>requests.route2.errors</td>\n",
       "      <td>5</td>\n",
       "      <td>10</td>\n",
       "    </tr>\n",
       "    <tr>\n",
       "      <th>4</th>\n",
       "      <td>mongo.cache.hits</td>\n",
       "      <td>5</td>\n",
       "      <td>10</td>\n",
       "    </tr>\n",
       "    <tr>\n",
       "      <th>5</th>\n",
       "      <td>mongo.cache.misses</td>\n",
       "      <td>5</td>\n",
       "      <td>10</td>\n",
       "    </tr>\n",
       "    <tr>\n",
       "      <th>6</th>\n",
       "      <td>mongo.cache.performance.cpu</td>\n",
       "      <td>5</td>\n",
       "      <td>10</td>\n",
       "    </tr>\n",
       "    <tr>\n",
       "      <th>7</th>\n",
       "      <td>mongo.cache.performance.ram</td>\n",
       "      <td>5</td>\n",
       "      <td>10</td>\n",
       "    </tr>\n",
       "  </tbody>\n",
       "</table>\n",
       "</div>"
      ],
      "text/plain": [
       "                   metric_name  average_hourly_custom_metrics  \\\n",
       "0      requests.route1.latency                              5   \n",
       "1       requests.route1.errors                              5   \n",
       "2      requests.route2.latency                              5   \n",
       "3       requests.route2.errors                              5   \n",
       "4             mongo.cache.hits                              5   \n",
       "5           mongo.cache.misses                              5   \n",
       "6  mongo.cache.performance.cpu                              5   \n",
       "7  mongo.cache.performance.ram                              5   \n",
       "\n",
       "   max_hourly_custom_metrics  \n",
       "0                         10  \n",
       "1                         10  \n",
       "2                         10  \n",
       "3                         10  \n",
       "4                         10  \n",
       "5                         10  \n",
       "6                         10  \n",
       "7                         10  "
      ]
     },
     "execution_count": 22,
     "metadata": {},
     "output_type": "execute_result"
    }
   ],
   "source": [
    "test_df"
   ]
  },
  {
   "cell_type": "code",
   "execution_count": 23,
   "metadata": {},
   "outputs": [
    {
     "name": "stdout",
     "output_type": "stream",
     "text": [
      "root\n",
      "├── mongo\n",
      "│   └── cache\n",
      "│       ├── hits\n",
      "│       ├── misses\n",
      "│       └── performance\n",
      "│           ├── cpu\n",
      "│           └── ram\n",
      "└── requests\n",
      "    ├── route1\n",
      "    │   ├── errors\n",
      "    │   └── latency\n",
      "    └── route2\n",
      "        ├── errors\n",
      "        └── latency\n",
      "\n"
     ]
    }
   ],
   "source": [
    "test_df = read_custom_metrics_csv(\"tests/test_data.csv\")\n",
    "t = generate_cm_namespace_tree(test_df, \"average_hourly_custom_metrics\")\n",
    "t.show()"
   ]
  },
  {
   "cell_type": "code",
   "execution_count": 24,
   "metadata": {},
   "outputs": [
    {
     "data": {
      "text/plain": [
       "Node(tag=root, identifier=root, data=40)"
      ]
     },
     "execution_count": 24,
     "metadata": {},
     "output_type": "execute_result"
    }
   ],
   "source": [
    "t.get_node(\"root\")"
   ]
  },
  {
   "cell_type": "code",
   "execution_count": 25,
   "metadata": {},
   "outputs": [
    {
     "name": "stdout",
     "output_type": "stream",
     "text": [
      "root\n",
      "├── mongo\n",
      "│   └── cache\n",
      "│       ├── hits\n",
      "│       ├── misses\n",
      "│       └── performance\n",
      "│           ├── cpu\n",
      "│           └── ram\n",
      "└── requests\n",
      "    ├── route1\n",
      "    │   ├── errors\n",
      "    │   └── latency\n",
      "    └── route2\n",
      "        ├── errors\n",
      "        └── latency\n",
      "\n"
     ]
    }
   ],
   "source": [
    "test_df = read_custom_metrics_csv(\"tests/test_data.csv\")\n",
    "t = generate_cm_namespace_tree(test_df, \"max_hourly_custom_metrics\")\n",
    "t.show()"
   ]
  },
  {
   "cell_type": "code",
   "execution_count": 26,
   "metadata": {},
   "outputs": [
    {
     "data": {
      "text/plain": [
       "Node(tag=root, identifier=root, data=80)"
      ]
     },
     "execution_count": 26,
     "metadata": {},
     "output_type": "execute_result"
    }
   ],
   "source": [
    "t.get_node(\"root\")"
   ]
  },
  {
   "cell_type": "code",
   "execution_count": null,
   "metadata": {},
   "outputs": [],
   "source": []
  }
 ],
 "metadata": {
  "kernelspec": {
   "display_name": ".venv",
   "language": "python",
   "name": "python3"
  },
  "language_info": {
   "codemirror_mode": {
    "name": "ipython",
    "version": 3
   },
   "file_extension": ".py",
   "mimetype": "text/x-python",
   "name": "python",
   "nbconvert_exporter": "python",
   "pygments_lexer": "ipython3",
   "version": "3.10.5"
  },
  "orig_nbformat": 4
 },
 "nbformat": 4,
 "nbformat_minor": 2
}
